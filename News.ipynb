{
  "nbformat": 4,
  "nbformat_minor": 0,
  "metadata": {
    "colab": {
      "provenance": []
    },
    "kernelspec": {
      "name": "python3",
      "display_name": "Python 3"
    },
    "language_info": {
      "name": "python"
    }
  },
  "cells": [
    {
      "cell_type": "markdown",
      "source": [
        "# **News Recommendation System**\n",
        "\n"
      ],
      "metadata": {
        "id": "cv0W8S_Uv02s"
      }
    },
    {
      "cell_type": "code",
      "source": [
        "from google.colab import drive\n",
        "drive.mount('/content/drive')"
      ],
      "metadata": {
        "id": "8KV6jZXbg32g",
        "colab": {
          "base_uri": "https://localhost:8080/"
        },
        "outputId": "84394300-1704-4472-e31e-2fe335715b81"
      },
      "execution_count": null,
      "outputs": [
        {
          "output_type": "stream",
          "name": "stdout",
          "text": [
            "Mounted at /content/drive\n"
          ]
        }
      ]
    },
    {
      "cell_type": "markdown",
      "source": [
        "## **1. Importing Libraries**"
      ],
      "metadata": {
        "id": "w_Q49Xt3wO9B"
      }
    },
    {
      "cell_type": "code",
      "execution_count": null,
      "metadata": {
        "id": "2DgmFnkPnFrb"
      },
      "outputs": [],
      "source": [
        "import numpy as np\n",
        "import pandas as pd\n",
        "# Below libraries are for text processing using NLTK\n",
        "from nltk.corpus import stopwords\n",
        "from nltk.tokenize import word_tokenize\n",
        "from nltk.stem import WordNetLemmatizer\n",
        "\n",
        "# Below libraries are for feature representation using sklearn\n",
        "from sklearn.feature_extraction.text import CountVectorizer\n",
        "from sklearn.feature_extraction.text import TfidfVectorizer\n",
        "\n",
        "# Below libraries are for similarity matrices using sklearn\n",
        "from sklearn.metrics.pairwise import cosine_similarity  \n",
        "from sklearn.metrics import pairwise_distances\n",
        "import warnings\n",
        "warnings.filterwarnings('ignore')"
      ]
    },
    {
      "cell_type": "markdown",
      "source": [
        "## **2. Loading datasets**"
      ],
      "metadata": {
        "id": "SNfRwk9wwZto"
      }
    },
    {
      "cell_type": "code",
      "source": [
        "news_articles = pd.read_json(\"/content/drive/MyDrive/Project_team_6/News_Category_Dataset_v2.json\", lines = True)"
      ],
      "metadata": {
        "id": "DCNcd25nneAA"
      },
      "execution_count": null,
      "outputs": []
    },
    {
      "cell_type": "code",
      "source": [
        "news_articles.info()"
      ],
      "metadata": {
        "id": "EglTcp2bw6iH",
        "outputId": "406c887e-2002-47b6-ce06-deed1186740b",
        "colab": {
          "base_uri": "https://localhost:8080/"
        }
      },
      "execution_count": null,
      "outputs": [
        {
          "output_type": "stream",
          "name": "stdout",
          "text": [
            "<class 'pandas.core.frame.DataFrame'>\n",
            "RangeIndex: 200853 entries, 0 to 200852\n",
            "Data columns (total 6 columns):\n",
            " #   Column             Non-Null Count   Dtype         \n",
            "---  ------             --------------   -----         \n",
            " 0   category           200853 non-null  object        \n",
            " 1   headline           200853 non-null  object        \n",
            " 2   authors            200853 non-null  object        \n",
            " 3   link               200853 non-null  object        \n",
            " 4   short_description  200853 non-null  object        \n",
            " 5   date               200853 non-null  datetime64[ns]\n",
            "dtypes: datetime64[ns](1), object(5)\n",
            "memory usage: 9.2+ MB\n"
          ]
        }
      ]
    },
    {
      "cell_type": "code",
      "source": [
        "news_articles.head()"
      ],
      "metadata": {
        "id": "6I7r3A86xAUd",
        "colab": {
          "base_uri": "https://localhost:8080/",
          "height": 337
        },
        "outputId": "d0f523ed-6feb-496c-8af7-c8f00453e919"
      },
      "execution_count": null,
      "outputs": [
        {
          "output_type": "execute_result",
          "data": {
            "text/plain": [
              "        category                                           headline  \\\n",
              "0          CRIME  There Were 2 Mass Shootings In Texas Last Week...   \n",
              "1  ENTERTAINMENT  Will Smith Joins Diplo And Nicky Jam For The 2...   \n",
              "2  ENTERTAINMENT    Hugh Grant Marries For The First Time At Age 57   \n",
              "3  ENTERTAINMENT  Jim Carrey Blasts 'Castrato' Adam Schiff And D...   \n",
              "4  ENTERTAINMENT  Julianna Margulies Uses Donald Trump Poop Bags...   \n",
              "\n",
              "           authors                                               link  \\\n",
              "0  Melissa Jeltsen  https://www.huffingtonpost.com/entry/texas-ama...   \n",
              "1    Andy McDonald  https://www.huffingtonpost.com/entry/will-smit...   \n",
              "2       Ron Dicker  https://www.huffingtonpost.com/entry/hugh-gran...   \n",
              "3       Ron Dicker  https://www.huffingtonpost.com/entry/jim-carre...   \n",
              "4       Ron Dicker  https://www.huffingtonpost.com/entry/julianna-...   \n",
              "\n",
              "                                   short_description       date  \n",
              "0  She left her husband. He killed their children... 2018-05-26  \n",
              "1                           Of course it has a song. 2018-05-26  \n",
              "2  The actor and his longtime girlfriend Anna Ebe... 2018-05-26  \n",
              "3  The actor gives Dems an ass-kicking for not fi... 2018-05-26  \n",
              "4  The \"Dietland\" actress said using the bags is ... 2018-05-26  "
            ],
            "text/html": [
              "\n",
              "  <div id=\"df-893939e1-5405-4f35-97e2-7c305cb94b67\">\n",
              "    <div class=\"colab-df-container\">\n",
              "      <div>\n",
              "<style scoped>\n",
              "    .dataframe tbody tr th:only-of-type {\n",
              "        vertical-align: middle;\n",
              "    }\n",
              "\n",
              "    .dataframe tbody tr th {\n",
              "        vertical-align: top;\n",
              "    }\n",
              "\n",
              "    .dataframe thead th {\n",
              "        text-align: right;\n",
              "    }\n",
              "</style>\n",
              "<table border=\"1\" class=\"dataframe\">\n",
              "  <thead>\n",
              "    <tr style=\"text-align: right;\">\n",
              "      <th></th>\n",
              "      <th>category</th>\n",
              "      <th>headline</th>\n",
              "      <th>authors</th>\n",
              "      <th>link</th>\n",
              "      <th>short_description</th>\n",
              "      <th>date</th>\n",
              "    </tr>\n",
              "  </thead>\n",
              "  <tbody>\n",
              "    <tr>\n",
              "      <th>0</th>\n",
              "      <td>CRIME</td>\n",
              "      <td>There Were 2 Mass Shootings In Texas Last Week...</td>\n",
              "      <td>Melissa Jeltsen</td>\n",
              "      <td>https://www.huffingtonpost.com/entry/texas-ama...</td>\n",
              "      <td>She left her husband. He killed their children...</td>\n",
              "      <td>2018-05-26</td>\n",
              "    </tr>\n",
              "    <tr>\n",
              "      <th>1</th>\n",
              "      <td>ENTERTAINMENT</td>\n",
              "      <td>Will Smith Joins Diplo And Nicky Jam For The 2...</td>\n",
              "      <td>Andy McDonald</td>\n",
              "      <td>https://www.huffingtonpost.com/entry/will-smit...</td>\n",
              "      <td>Of course it has a song.</td>\n",
              "      <td>2018-05-26</td>\n",
              "    </tr>\n",
              "    <tr>\n",
              "      <th>2</th>\n",
              "      <td>ENTERTAINMENT</td>\n",
              "      <td>Hugh Grant Marries For The First Time At Age 57</td>\n",
              "      <td>Ron Dicker</td>\n",
              "      <td>https://www.huffingtonpost.com/entry/hugh-gran...</td>\n",
              "      <td>The actor and his longtime girlfriend Anna Ebe...</td>\n",
              "      <td>2018-05-26</td>\n",
              "    </tr>\n",
              "    <tr>\n",
              "      <th>3</th>\n",
              "      <td>ENTERTAINMENT</td>\n",
              "      <td>Jim Carrey Blasts 'Castrato' Adam Schiff And D...</td>\n",
              "      <td>Ron Dicker</td>\n",
              "      <td>https://www.huffingtonpost.com/entry/jim-carre...</td>\n",
              "      <td>The actor gives Dems an ass-kicking for not fi...</td>\n",
              "      <td>2018-05-26</td>\n",
              "    </tr>\n",
              "    <tr>\n",
              "      <th>4</th>\n",
              "      <td>ENTERTAINMENT</td>\n",
              "      <td>Julianna Margulies Uses Donald Trump Poop Bags...</td>\n",
              "      <td>Ron Dicker</td>\n",
              "      <td>https://www.huffingtonpost.com/entry/julianna-...</td>\n",
              "      <td>The \"Dietland\" actress said using the bags is ...</td>\n",
              "      <td>2018-05-26</td>\n",
              "    </tr>\n",
              "  </tbody>\n",
              "</table>\n",
              "</div>\n",
              "      <button class=\"colab-df-convert\" onclick=\"convertToInteractive('df-893939e1-5405-4f35-97e2-7c305cb94b67')\"\n",
              "              title=\"Convert this dataframe to an interactive table.\"\n",
              "              style=\"display:none;\">\n",
              "        \n",
              "  <svg xmlns=\"http://www.w3.org/2000/svg\" height=\"24px\"viewBox=\"0 0 24 24\"\n",
              "       width=\"24px\">\n",
              "    <path d=\"M0 0h24v24H0V0z\" fill=\"none\"/>\n",
              "    <path d=\"M18.56 5.44l.94 2.06.94-2.06 2.06-.94-2.06-.94-.94-2.06-.94 2.06-2.06.94zm-11 1L8.5 8.5l.94-2.06 2.06-.94-2.06-.94L8.5 2.5l-.94 2.06-2.06.94zm10 10l.94 2.06.94-2.06 2.06-.94-2.06-.94-.94-2.06-.94 2.06-2.06.94z\"/><path d=\"M17.41 7.96l-1.37-1.37c-.4-.4-.92-.59-1.43-.59-.52 0-1.04.2-1.43.59L10.3 9.45l-7.72 7.72c-.78.78-.78 2.05 0 2.83L4 21.41c.39.39.9.59 1.41.59.51 0 1.02-.2 1.41-.59l7.78-7.78 2.81-2.81c.8-.78.8-2.07 0-2.86zM5.41 20L4 18.59l7.72-7.72 1.47 1.35L5.41 20z\"/>\n",
              "  </svg>\n",
              "      </button>\n",
              "      \n",
              "  <style>\n",
              "    .colab-df-container {\n",
              "      display:flex;\n",
              "      flex-wrap:wrap;\n",
              "      gap: 12px;\n",
              "    }\n",
              "\n",
              "    .colab-df-convert {\n",
              "      background-color: #E8F0FE;\n",
              "      border: none;\n",
              "      border-radius: 50%;\n",
              "      cursor: pointer;\n",
              "      display: none;\n",
              "      fill: #1967D2;\n",
              "      height: 32px;\n",
              "      padding: 0 0 0 0;\n",
              "      width: 32px;\n",
              "    }\n",
              "\n",
              "    .colab-df-convert:hover {\n",
              "      background-color: #E2EBFA;\n",
              "      box-shadow: 0px 1px 2px rgba(60, 64, 67, 0.3), 0px 1px 3px 1px rgba(60, 64, 67, 0.15);\n",
              "      fill: #174EA6;\n",
              "    }\n",
              "\n",
              "    [theme=dark] .colab-df-convert {\n",
              "      background-color: #3B4455;\n",
              "      fill: #D2E3FC;\n",
              "    }\n",
              "\n",
              "    [theme=dark] .colab-df-convert:hover {\n",
              "      background-color: #434B5C;\n",
              "      box-shadow: 0px 1px 3px 1px rgba(0, 0, 0, 0.15);\n",
              "      filter: drop-shadow(0px 1px 2px rgba(0, 0, 0, 0.3));\n",
              "      fill: #FFFFFF;\n",
              "    }\n",
              "  </style>\n",
              "\n",
              "      <script>\n",
              "        const buttonEl =\n",
              "          document.querySelector('#df-893939e1-5405-4f35-97e2-7c305cb94b67 button.colab-df-convert');\n",
              "        buttonEl.style.display =\n",
              "          google.colab.kernel.accessAllowed ? 'block' : 'none';\n",
              "\n",
              "        async function convertToInteractive(key) {\n",
              "          const element = document.querySelector('#df-893939e1-5405-4f35-97e2-7c305cb94b67');\n",
              "          const dataTable =\n",
              "            await google.colab.kernel.invokeFunction('convertToInteractive',\n",
              "                                                     [key], {});\n",
              "          if (!dataTable) return;\n",
              "\n",
              "          const docLinkHtml = 'Like what you see? Visit the ' +\n",
              "            '<a target=\"_blank\" href=https://colab.research.google.com/notebooks/data_table.ipynb>data table notebook</a>'\n",
              "            + ' to learn more about interactive tables.';\n",
              "          element.innerHTML = '';\n",
              "          dataTable['output_type'] = 'display_data';\n",
              "          await google.colab.output.renderOutput(dataTable, element);\n",
              "          const docLink = document.createElement('div');\n",
              "          docLink.innerHTML = docLinkHtml;\n",
              "          element.appendChild(docLink);\n",
              "        }\n",
              "      </script>\n",
              "    </div>\n",
              "  </div>\n",
              "  "
            ]
          },
          "metadata": {},
          "execution_count": 5
        }
      ]
    },
    {
      "cell_type": "code",
      "source": [
        "news_articles.shape"
      ],
      "metadata": {
        "id": "zUT8FhLDxDFT",
        "colab": {
          "base_uri": "https://localhost:8080/"
        },
        "outputId": "01c8c046-bbf7-4c03-d53a-c3be2d39b738"
      },
      "execution_count": null,
      "outputs": [
        {
          "output_type": "execute_result",
          "data": {
            "text/plain": [
              "(200853, 6)"
            ]
          },
          "metadata": {},
          "execution_count": 58
        }
      ]
    },
    {
      "cell_type": "code",
      "source": [
        "print(\"Dataset has {} observations with {} features\".format(news_articles.shape[0],news_articles.shape[1]))"
      ],
      "metadata": {
        "colab": {
          "base_uri": "https://localhost:8080/"
        },
        "id": "XYNHrkAgU4Q8",
        "outputId": "ad2b16ff-ed9a-4e0d-b793-8cbe08914ef4"
      },
      "execution_count": null,
      "outputs": [
        {
          "output_type": "stream",
          "name": "stdout",
          "text": [
            "Dataset has 200853 observations with 6 features\n"
          ]
        }
      ]
    },
    {
      "cell_type": "code",
      "source": [
        "news_articles['category'].unique()"
      ],
      "metadata": {
        "colab": {
          "base_uri": "https://localhost:8080/"
        },
        "id": "MqAxamOLTBqc",
        "outputId": "d4b9c5dc-1391-46e8-d5c8-c94f483eff77"
      },
      "execution_count": null,
      "outputs": [
        {
          "output_type": "execute_result",
          "data": {
            "text/plain": [
              "array(['CRIME', 'ENTERTAINMENT', 'WORLD NEWS', 'IMPACT', 'POLITICS',\n",
              "       'WEIRD NEWS', 'BLACK VOICES', 'WOMEN', 'COMEDY', 'QUEER VOICES',\n",
              "       'SPORTS', 'BUSINESS', 'TRAVEL', 'MEDIA', 'TECH', 'RELIGION',\n",
              "       'SCIENCE', 'LATINO VOICES', 'EDUCATION', 'COLLEGE', 'PARENTS',\n",
              "       'ARTS & CULTURE', 'STYLE', 'GREEN', 'TASTE', 'HEALTHY LIVING',\n",
              "       'THE WORLDPOST', 'GOOD NEWS', 'WORLDPOST', 'FIFTY', 'ARTS',\n",
              "       'WELLNESS', 'PARENTING', 'HOME & LIVING', 'STYLE & BEAUTY',\n",
              "       'DIVORCE', 'WEDDINGS', 'FOOD & DRINK', 'MONEY', 'ENVIRONMENT',\n",
              "       'CULTURE & ARTS'], dtype=object)"
            ]
          },
          "metadata": {},
          "execution_count": 60
        }
      ]
    },
    {
      "cell_type": "code",
      "source": [
        "news_articles['category'].nunique()"
      ],
      "metadata": {
        "colab": {
          "base_uri": "https://localhost:8080/"
        },
        "id": "GTUmtTTsTB4N",
        "outputId": "47c8efef-63b0-4a42-998d-b8e3bdabd3a7"
      },
      "execution_count": null,
      "outputs": [
        {
          "output_type": "execute_result",
          "data": {
            "text/plain": [
              "41"
            ]
          },
          "metadata": {},
          "execution_count": 61
        }
      ]
    },
    {
      "cell_type": "markdown",
      "source": [
        "## **3. Data Preprocessing**"
      ],
      "metadata": {
        "id": "WsaiTk48Z559"
      }
    },
    {
      "cell_type": "markdown",
      "source": [
        "### ***3.a) Fetching only the articles from 2018***"
      ],
      "metadata": {
        "id": "5TObe59UZ8ou"
      }
    },
    {
      "cell_type": "code",
      "source": [
        "import time\n"
      ],
      "metadata": {
        "id": "Dxyb0hxYabiH"
      },
      "execution_count": null,
      "outputs": []
    },
    {
      "cell_type": "code",
      "source": [
        "news_articles = news_articles[news_articles['date'] >= pd.Timestamp(2018,1,1)]"
      ],
      "metadata": {
        "id": "jr4vmzIAfhsx"
      },
      "execution_count": null,
      "outputs": []
    },
    {
      "cell_type": "code",
      "source": [
        "news_articles.shape"
      ],
      "metadata": {
        "colab": {
          "base_uri": "https://localhost:8080/"
        },
        "id": "rHif8ekRT3vA",
        "outputId": "9e63126b-666d-44a3-937c-d60f46bd2d18"
      },
      "execution_count": null,
      "outputs": [
        {
          "output_type": "execute_result",
          "data": {
            "text/plain": [
              "(8583, 6)"
            ]
          },
          "metadata": {},
          "execution_count": 64
        }
      ]
    },
    {
      "cell_type": "markdown",
      "source": [
        "### **3.b) Removing all the short headline articles**"
      ],
      "metadata": {
        "id": "CPArK-7eUetg"
      }
    },
    {
      "cell_type": "code",
      "source": [
        "news_articles[news_articles['headline'].apply(lambda x: len(x.split())<5)].head(5)"
      ],
      "metadata": {
        "colab": {
          "base_uri": "https://localhost:8080/",
          "height": 424
        },
        "id": "uSuYxjjQU8xI",
        "outputId": "804b4554-bba7-4a15-cd85-d57e67444773"
      },
      "execution_count": null,
      "outputs": [
        {
          "output_type": "execute_result",
          "data": {
            "text/plain": [
              "           category                        headline                  authors  \\\n",
              "1269  POLITICS       Corruption Is Bad               Zach Carter               \n",
              "1888  ENTERTAINMENT  Meeting Mr. Wright              Leigh Blickley            \n",
              "2868  BLACK VOICES   MLK's Funeral: Rare Photos      FOTO, Editorial Partner   \n",
              "3061  WEIRD NEWS     'The Early Worm Dies'           Lee Moran                 \n",
              "3438  POLITICS       John Bolton's Anti-Muslim Hate  Christopher Mathias       \n",
              "\n",
              "                                                                                                            link  \\\n",
              "1269  https://www.huffingtonpost.com/entry/government-anti-corruption-oversight_us_5ae8e4ebe4b06748dc8d4b43        \n",
              "1888  https://www.huffingtonpost.com/entry/jeffrey-wright-westworld-hbo_us_5ad7b9bae4b03c426daaf38d                \n",
              "2868  https://www.huffingtonpost.com/entry/mlks-funeral-rare-photos_us_5abe4882e4b0f8e848433755                    \n",
              "3061  https://www.huffingtonpost.com/entry/reddit-shower-thoughts-2018-march-final_us_5abe2292e4b0f112dc9b9170     \n",
              "3438  https://www.huffingtonpost.com/entry/john-bolton-anti-muslim-bigot-hate-groups_us_5ab52bf2e4b008c9e5f6f1f9   \n",
              "\n",
              "                                                                                                                                      short_description  \\\n",
              "1269  A new proposal would actually do something about it.                                                                                                \n",
              "1888  He’s “that guy” in every HBO series — and \"that android\" in “Westworld” — but chances are, you don't know anything about the real Jeffrey Wright.   \n",
              "2868  Andrew Young was the executive director of the Southern Christian Leadership Conference (SCLC); marched in (and was arrested                        \n",
              "3061  The 25 most profound “Shower Thoughts” on Reddit from the last week.                                                                                \n",
              "3438  Trump's new pick for national security adviser is close with some of the most unhinged anti-Muslim groups in America.                               \n",
              "\n",
              "           date  \n",
              "1269 2018-05-02  \n",
              "1888 2018-04-21  \n",
              "2868 2018-04-03  \n",
              "3061 2018-03-30  \n",
              "3438 2018-03-23  "
            ],
            "text/html": [
              "\n",
              "  <div id=\"df-a18fed02-2bfe-43d0-9322-9a848062b22a\">\n",
              "    <div class=\"colab-df-container\">\n",
              "      <div>\n",
              "<style scoped>\n",
              "    .dataframe tbody tr th:only-of-type {\n",
              "        vertical-align: middle;\n",
              "    }\n",
              "\n",
              "    .dataframe tbody tr th {\n",
              "        vertical-align: top;\n",
              "    }\n",
              "\n",
              "    .dataframe thead th {\n",
              "        text-align: right;\n",
              "    }\n",
              "</style>\n",
              "<table border=\"1\" class=\"dataframe\">\n",
              "  <thead>\n",
              "    <tr style=\"text-align: right;\">\n",
              "      <th></th>\n",
              "      <th>category</th>\n",
              "      <th>headline</th>\n",
              "      <th>authors</th>\n",
              "      <th>link</th>\n",
              "      <th>short_description</th>\n",
              "      <th>date</th>\n",
              "    </tr>\n",
              "  </thead>\n",
              "  <tbody>\n",
              "    <tr>\n",
              "      <th>1269</th>\n",
              "      <td>POLITICS</td>\n",
              "      <td>Corruption Is Bad</td>\n",
              "      <td>Zach Carter</td>\n",
              "      <td>https://www.huffingtonpost.com/entry/government-anti-corruption-oversight_us_5ae8e4ebe4b06748dc8d4b43</td>\n",
              "      <td>A new proposal would actually do something about it.</td>\n",
              "      <td>2018-05-02</td>\n",
              "    </tr>\n",
              "    <tr>\n",
              "      <th>1888</th>\n",
              "      <td>ENTERTAINMENT</td>\n",
              "      <td>Meeting Mr. Wright</td>\n",
              "      <td>Leigh Blickley</td>\n",
              "      <td>https://www.huffingtonpost.com/entry/jeffrey-wright-westworld-hbo_us_5ad7b9bae4b03c426daaf38d</td>\n",
              "      <td>He’s “that guy” in every HBO series — and \"that android\" in “Westworld” — but chances are, you don't know anything about the real Jeffrey Wright.</td>\n",
              "      <td>2018-04-21</td>\n",
              "    </tr>\n",
              "    <tr>\n",
              "      <th>2868</th>\n",
              "      <td>BLACK VOICES</td>\n",
              "      <td>MLK's Funeral: Rare Photos</td>\n",
              "      <td>FOTO, Editorial Partner</td>\n",
              "      <td>https://www.huffingtonpost.com/entry/mlks-funeral-rare-photos_us_5abe4882e4b0f8e848433755</td>\n",
              "      <td>Andrew Young was the executive director of the Southern Christian Leadership Conference (SCLC); marched in (and was arrested</td>\n",
              "      <td>2018-04-03</td>\n",
              "    </tr>\n",
              "    <tr>\n",
              "      <th>3061</th>\n",
              "      <td>WEIRD NEWS</td>\n",
              "      <td>'The Early Worm Dies'</td>\n",
              "      <td>Lee Moran</td>\n",
              "      <td>https://www.huffingtonpost.com/entry/reddit-shower-thoughts-2018-march-final_us_5abe2292e4b0f112dc9b9170</td>\n",
              "      <td>The 25 most profound “Shower Thoughts” on Reddit from the last week.</td>\n",
              "      <td>2018-03-30</td>\n",
              "    </tr>\n",
              "    <tr>\n",
              "      <th>3438</th>\n",
              "      <td>POLITICS</td>\n",
              "      <td>John Bolton's Anti-Muslim Hate</td>\n",
              "      <td>Christopher Mathias</td>\n",
              "      <td>https://www.huffingtonpost.com/entry/john-bolton-anti-muslim-bigot-hate-groups_us_5ab52bf2e4b008c9e5f6f1f9</td>\n",
              "      <td>Trump's new pick for national security adviser is close with some of the most unhinged anti-Muslim groups in America.</td>\n",
              "      <td>2018-03-23</td>\n",
              "    </tr>\n",
              "  </tbody>\n",
              "</table>\n",
              "</div>\n",
              "      <button class=\"colab-df-convert\" onclick=\"convertToInteractive('df-a18fed02-2bfe-43d0-9322-9a848062b22a')\"\n",
              "              title=\"Convert this dataframe to an interactive table.\"\n",
              "              style=\"display:none;\">\n",
              "        \n",
              "  <svg xmlns=\"http://www.w3.org/2000/svg\" height=\"24px\"viewBox=\"0 0 24 24\"\n",
              "       width=\"24px\">\n",
              "    <path d=\"M0 0h24v24H0V0z\" fill=\"none\"/>\n",
              "    <path d=\"M18.56 5.44l.94 2.06.94-2.06 2.06-.94-2.06-.94-.94-2.06-.94 2.06-2.06.94zm-11 1L8.5 8.5l.94-2.06 2.06-.94-2.06-.94L8.5 2.5l-.94 2.06-2.06.94zm10 10l.94 2.06.94-2.06 2.06-.94-2.06-.94-.94-2.06-.94 2.06-2.06.94z\"/><path d=\"M17.41 7.96l-1.37-1.37c-.4-.4-.92-.59-1.43-.59-.52 0-1.04.2-1.43.59L10.3 9.45l-7.72 7.72c-.78.78-.78 2.05 0 2.83L4 21.41c.39.39.9.59 1.41.59.51 0 1.02-.2 1.41-.59l7.78-7.78 2.81-2.81c.8-.78.8-2.07 0-2.86zM5.41 20L4 18.59l7.72-7.72 1.47 1.35L5.41 20z\"/>\n",
              "  </svg>\n",
              "      </button>\n",
              "      \n",
              "  <style>\n",
              "    .colab-df-container {\n",
              "      display:flex;\n",
              "      flex-wrap:wrap;\n",
              "      gap: 12px;\n",
              "    }\n",
              "\n",
              "    .colab-df-convert {\n",
              "      background-color: #E8F0FE;\n",
              "      border: none;\n",
              "      border-radius: 50%;\n",
              "      cursor: pointer;\n",
              "      display: none;\n",
              "      fill: #1967D2;\n",
              "      height: 32px;\n",
              "      padding: 0 0 0 0;\n",
              "      width: 32px;\n",
              "    }\n",
              "\n",
              "    .colab-df-convert:hover {\n",
              "      background-color: #E2EBFA;\n",
              "      box-shadow: 0px 1px 2px rgba(60, 64, 67, 0.3), 0px 1px 3px 1px rgba(60, 64, 67, 0.15);\n",
              "      fill: #174EA6;\n",
              "    }\n",
              "\n",
              "    [theme=dark] .colab-df-convert {\n",
              "      background-color: #3B4455;\n",
              "      fill: #D2E3FC;\n",
              "    }\n",
              "\n",
              "    [theme=dark] .colab-df-convert:hover {\n",
              "      background-color: #434B5C;\n",
              "      box-shadow: 0px 1px 3px 1px rgba(0, 0, 0, 0.15);\n",
              "      filter: drop-shadow(0px 1px 2px rgba(0, 0, 0, 0.3));\n",
              "      fill: #FFFFFF;\n",
              "    }\n",
              "  </style>\n",
              "\n",
              "      <script>\n",
              "        const buttonEl =\n",
              "          document.querySelector('#df-a18fed02-2bfe-43d0-9322-9a848062b22a button.colab-df-convert');\n",
              "        buttonEl.style.display =\n",
              "          google.colab.kernel.accessAllowed ? 'block' : 'none';\n",
              "\n",
              "        async function convertToInteractive(key) {\n",
              "          const element = document.querySelector('#df-a18fed02-2bfe-43d0-9322-9a848062b22a');\n",
              "          const dataTable =\n",
              "            await google.colab.kernel.invokeFunction('convertToInteractive',\n",
              "                                                     [key], {});\n",
              "          if (!dataTable) return;\n",
              "\n",
              "          const docLinkHtml = 'Like what you see? Visit the ' +\n",
              "            '<a target=\"_blank\" href=https://colab.research.google.com/notebooks/data_table.ipynb>data table notebook</a>'\n",
              "            + ' to learn more about interactive tables.';\n",
              "          element.innerHTML = '';\n",
              "          dataTable['output_type'] = 'display_data';\n",
              "          await google.colab.output.renderOutput(dataTable, element);\n",
              "          const docLink = document.createElement('div');\n",
              "          docLink.innerHTML = docLinkHtml;\n",
              "          element.appendChild(docLink);\n",
              "        }\n",
              "      </script>\n",
              "    </div>\n",
              "  </div>\n",
              "  "
            ]
          },
          "metadata": {},
          "execution_count": 65
        }
      ]
    },
    {
      "cell_type": "code",
      "source": [
        "news_articles = news_articles[news_articles['headline'].apply(lambda x: len(x.split())>5)]\n",
        "print(\"Total number of articles after removal of headlines with short title:\", news_articles.shape[0])"
      ],
      "metadata": {
        "colab": {
          "base_uri": "https://localhost:8080/"
        },
        "id": "1XO1XeXbT8Gk",
        "outputId": "8a2448a1-d013-428d-eb6f-7201e072acbb"
      },
      "execution_count": null,
      "outputs": [
        {
          "output_type": "stream",
          "name": "stdout",
          "text": [
            "Total number of articles after removal of headlines with short title: 8530\n"
          ]
        }
      ]
    },
    {
      "cell_type": "markdown",
      "source": [
        "### **3.c) Checking and removing all the duplicates**"
      ],
      "metadata": {
        "id": "t_Z2mZHPXJkI"
      }
    },
    {
      "cell_type": "code",
      "source": [
        "news_articles.sort_values('headline',inplace=True, ascending=False)\n",
        "duplicated_articles_series = news_articles.duplicated('headline', keep = False)\n",
        "news_articles = news_articles[~duplicated_articles_series]\n",
        "print(\"Total number of articles after removing duplicates:\", news_articles.shape[0])"
      ],
      "metadata": {
        "colab": {
          "base_uri": "https://localhost:8080/"
        },
        "id": "cQswkbifUBQa",
        "outputId": "b2b9c26e-98d5-4d2c-c9ab-319743648c00"
      },
      "execution_count": null,
      "outputs": [
        {
          "output_type": "stream",
          "name": "stdout",
          "text": [
            "Total number of articles after removing duplicates: 8485\n"
          ]
        }
      ]
    },
    {
      "cell_type": "markdown",
      "source": [
        "### **3.d) Checking for missing values**"
      ],
      "metadata": {
        "id": "WsZTId3ZXOOw"
      }
    },
    {
      "cell_type": "code",
      "source": [
        "news_articles.isna().sum()"
      ],
      "metadata": {
        "colab": {
          "base_uri": "https://localhost:8080/"
        },
        "id": "Bj-WqbxxUF_0",
        "outputId": "1953b7d4-3d5b-4d5b-df06-463ee94e6643"
      },
      "execution_count": null,
      "outputs": [
        {
          "output_type": "execute_result",
          "data": {
            "text/plain": [
              "category             0\n",
              "headline             0\n",
              "authors              0\n",
              "link                 0\n",
              "short_description    0\n",
              "date                 0\n",
              "dtype: int64"
            ]
          },
          "metadata": {},
          "execution_count": 68
        }
      ]
    },
    {
      "cell_type": "markdown",
      "source": [
        "No missing values are present"
      ],
      "metadata": {
        "id": "Gi5WhViGjwJ4"
      }
    },
    {
      "cell_type": "markdown",
      "source": [
        "## **4. Basic Data Exploration**"
      ],
      "metadata": {
        "id": "ay2xby5gXzK4"
      }
    },
    {
      "cell_type": "code",
      "source": [
        "import matplotlib.pyplot as plt\n",
        "import seaborn as sns"
      ],
      "metadata": {
        "id": "2M2zzC4hX1it"
      },
      "execution_count": null,
      "outputs": []
    },
    {
      "cell_type": "markdown",
      "source": [
        "### **4.a) Basic statistics - Number of articles,authors,categories**"
      ],
      "metadata": {
        "id": "mtCrPUZPYAty"
      }
    },
    {
      "cell_type": "code",
      "source": [
        "print(\"Total number of articles : \", news_articles.shape[0])\n",
        "print(\"Total number of authors : \", news_articles[\"authors\"].nunique())\n",
        "print(\"Total number of unqiue categories : \", news_articles[\"category\"].nunique())"
      ],
      "metadata": {
        "colab": {
          "base_uri": "https://localhost:8080/"
        },
        "id": "pKezT442X7q7",
        "outputId": "8d5e2e49-d11f-4142-89eb-1be30f9e3083"
      },
      "execution_count": null,
      "outputs": [
        {
          "output_type": "stream",
          "name": "stdout",
          "text": [
            "Total number of articles :  8485\n",
            "Total number of authors :  892\n",
            "Total number of unqiue categories :  26\n"
          ]
        }
      ]
    },
    {
      "cell_type": "markdown",
      "source": [
        "### **4.b) Distribution of articles category-wise**"
      ],
      "metadata": {
        "id": "BTpVnSIIYSo9"
      }
    },
    {
      "cell_type": "code",
      "source": [
        "plt.figure(figsize=(15,10))\n",
        "sns.barplot(data=news_articles,x=news_articles[\"category\"].value_counts().index, y=news_articles[\"category\"].value_counts().values)\n",
        "plt.xticks(rotation=90)\n",
        "plt.xlabel('Category Name',fontsize = 15)\n",
        "plt.ylabel('Number of Articles',fontsize = 15)\n",
        "plt.title('Distribution of articles category-wise',fontsize = 20)\n",
        "plt.show()"
      ],
      "metadata": {
        "colab": {
          "base_uri": "https://localhost:8080/",
          "height": 706
        },
        "id": "le5XLSADYgYl",
        "outputId": "bd1a195f-3f22-4a32-c6af-6d0fbedd7216"
      },
      "execution_count": null,
      "outputs": [
        {
          "output_type": "display_data",
          "data": {
            "text/plain": [
              "<Figure size 1080x720 with 1 Axes>"
            ],
            "image/png": "[encoded data removed]"
          },
          "metadata": {
            "needs_background": "light"
          }
        }
      ]
    },
    {
      "cell_type": "markdown",
      "source": [
        "From the bar chart, we can observe that politics category has highest number of articles then entertainment and so on."
      ],
      "metadata": {
        "id": "I3wD8zizcx_b"
      }
    },
    {
      "cell_type": "markdown",
      "source": [
        "### **4.c) Number of articles per month**"
      ],
      "metadata": {
        "id": "8iDURijWc28a"
      }
    },
    {
      "cell_type": "code",
      "source": [
        "news_articles_per_month = news_articles.resample('m',on = 'date')['headline'].count()\n",
        "plt.figure(figsize=(10,8))\n",
        "sns.barplot(data=news_articles,x=news_articles_per_month.index.strftime(\"%b\"), y=news_articles_per_month)\n",
        "plt.xticks\n",
        "plt.xlabel('Month',fontsize = 15)\n",
        "plt.ylabel('Number of Articles',fontsize = 15)\n",
        "plt.title('Distribution of articles category-wise',fontsize = 20)\n",
        "plt.show()"
      ],
      "metadata": {
        "colab": {
          "base_uri": "https://localhost:8080/",
          "height": 523
        },
        "id": "-bVI6B8wa5Nd",
        "outputId": "5778be0f-2db8-4035-a8c6-3e0cd4f9ba00"
      },
      "execution_count": null,
      "outputs": [
        {
          "output_type": "display_data",
          "data": {
            "text/plain": [
              "<Figure size 720x576 with 1 Axes>"
            ],
            "image/png": "[encoded data removed]"
          },
          "metadata": {
            "needs_background": "light"
          }
        }
      ]
    },
    {
      "cell_type": "markdown",
      "source": [
        "From the bar chart, we can observe that January month has highest number of articles then March and so on."
      ],
      "metadata": {
        "id": "NJfEn_4YfDvg"
      }
    },
    {
      "cell_type": "markdown",
      "source": [
        "### **4.d) PDF for the length of headlines**"
      ],
      "metadata": {
        "id": "U4knNwZnkFQZ"
      }
    },
    {
      "cell_type": "code",
      "source": [
        "data = pd.DataFrame(news_articles['headline'].str.len())\n",
        "res = sns.distplot(data)\n",
        "plt.xlabel('Length of a Headline',fontsize = 15)\n",
        "plt.ylabel('Probability',fontsize = 15)\n",
        "plt.title('Probability Density Function',fontsize = 20)\n",
        "plt.show()\n"
      ],
      "metadata": {
        "colab": {
          "base_uri": "https://localhost:8080/",
          "height": 305
        },
        "id": "JYUg2zyafF2g",
        "outputId": "0c7e5ea4-a036-41c4-a975-596421680425"
      },
      "execution_count": null,
      "outputs": [
        {
          "output_type": "display_data",
          "data": {
            "text/plain": [
              "<Figure size 432x288 with 1 Axes>"
            ],
            "image/png": "[encoded data removed]"
          },
          "metadata": {
            "needs_background": "light"
          }
        }
      ]
    },
    {
      "cell_type": "markdown",
      "source": [
        "The probability distribution function of headline length is almost similar to a Guassian distribution, where most of the headlines are 58 to 80 words long in length"
      ],
      "metadata": {
        "id": "yHTS0tAxhuIm"
      }
    },
    {
      "cell_type": "markdown",
      "source": [
        "**INFERENCES:** \n",
        "\n",
        "\n",
        "*   Major part of the news articles comes under Politics and Entertainment category.\n",
        "*   Most of the headlines have words between 58 to 80.\n",
        "\n"
      ],
      "metadata": {
        "id": "InOOpGbokadL"
      }
    },
    {
      "cell_type": "code",
      "source": [
        "news_articles_temp = news_articles.copy()\n",
        "na=news_articles.copy()"
      ],
      "metadata": {
        "id": "qoRUle2JMph4"
      },
      "execution_count": null,
      "outputs": []
    },
    {
      "cell_type": "markdown",
      "source": [
        "# **5. Text Preprocessing**"
      ],
      "metadata": {
        "id": "Mps18PTwEeJY"
      }
    },
    {
      "cell_type": "markdown",
      "source": [
        "### **5.a) Removing Punctuation**"
      ],
      "metadata": {
        "id": "BIqiVy9ZAdeS"
      }
    },
    {
      "cell_type": "code",
      "source": [
        "import string\n",
        "def remove_punctuation(text):\n",
        "    punctuationfree=\"\".join([i for i in text if i not in string.punctuation])\n",
        "    return punctuationfree\n",
        "na['headline'] = na['headline'].apply(lambda x:remove_punctuation(x))\n"
      ],
      "metadata": {
        "id": "98MEcHQ-AWWa"
      },
      "execution_count": null,
      "outputs": []
    },
    {
      "cell_type": "markdown",
      "source": [
        "### **5.b) Lowering**"
      ],
      "metadata": {
        "id": "oj70DpLnApRw"
      }
    },
    {
      "cell_type": "code",
      "source": [
        "na['headline'] = na['headline'].apply(lambda x:x.lower())"
      ],
      "metadata": {
        "id": "jgbFcGEEAs6O"
      },
      "execution_count": null,
      "outputs": []
    },
    {
      "cell_type": "markdown",
      "source": [
        "### **5.c) Tokenization**"
      ],
      "metadata": {
        "id": "O3IjG96cAwYL"
      }
    },
    {
      "cell_type": "code",
      "source": [
        "import nltk\n",
        "nltk.download('punkt')\n",
        "\n",
        "def tokenization(text):\n",
        "    words = nltk.word_tokenize(text)\n",
        "    return words\n",
        "na['headline'] = na['headline'].apply(lambda x:tokenization(x))"
      ],
      "metadata": {
        "colab": {
          "base_uri": "https://localhost:8080/"
        },
        "id": "jICDxD1-A0zO",
        "outputId": "b727ccc1-402f-44fe-c34f-6f343d1f5913"
      },
      "execution_count": null,
      "outputs": [
        {
          "output_type": "stream",
          "name": "stderr",
          "text": [
            "[nltk_data] Downloading package punkt to /root/nltk_data...\n",
            "[nltk_data]   Unzipping tokenizers/punkt.zip.\n"
          ]
        }
      ]
    },
    {
      "cell_type": "markdown",
      "source": [
        "### **5.d) Stopwords Removal**"
      ],
      "metadata": {
        "id": "jTrbEXL1MIh_"
      }
    },
    {
      "cell_type": "code",
      "source": [
        "import nltk\n",
        "\n",
        "nltk.download('stopwords')\n",
        "stopwords = nltk.corpus.stopwords.words('english')\n",
        "def remove_stopwords(text):\n",
        "    output= [i for i in text if i not in stopwords]\n",
        "    return output\n",
        "na['headline'] = na['headline'].apply(lambda x:remove_stopwords(x))"
      ],
      "metadata": {
        "colab": {
          "base_uri": "https://localhost:8080/"
        },
        "id": "kIv50uE5A4S-",
        "outputId": "4c77fe74-0d73-41c5-f358-89ecb0b2567e"
      },
      "execution_count": null,
      "outputs": [
        {
          "output_type": "stream",
          "name": "stderr",
          "text": [
            "[nltk_data] Downloading package stopwords to /root/nltk_data...\n",
            "[nltk_data]   Unzipping corpora/stopwords.zip.\n"
          ]
        }
      ]
    },
    {
      "cell_type": "markdown",
      "source": [
        "### **5.e) Lemmatization**"
      ],
      "metadata": {
        "id": "45KM2cmiA-Kd"
      }
    },
    {
      "cell_type": "code",
      "source": [
        "from nltk.stem import WordNetLemmatizer\n",
        "nltk.download('wordnet')\n",
        "nltk.download('omw-1.4')\n",
        "lemm=WordNetLemmatizer()\n",
        "wordnet_lemmatizer = WordNetLemmatizer()\n",
        "def lemmatizer(text):\n",
        "  lemm_text = [wordnet_lemmatizer.lemmatize(word) for word in text]\n",
        "  return lemm_text\n",
        "na['headline'] = na['headline'].apply(lambda x:lemmatizer(x))"
      ],
      "metadata": {
        "colab": {
          "base_uri": "https://localhost:8080/"
        },
        "id": "yFy5ejMiBDQ0",
        "outputId": "77e6f766-d16d-457f-ae84-01164fb3a95a"
      },
      "execution_count": null,
      "outputs": [
        {
          "output_type": "stream",
          "name": "stderr",
          "text": [
            "[nltk_data] Downloading package wordnet to /root/nltk_data...\n",
            "[nltk_data] Downloading package omw-1.4 to /root/nltk_data...\n"
          ]
        }
      ]
    },
    {
      "cell_type": "code",
      "source": [
        "na.head()"
      ],
      "metadata": {
        "colab": {
          "base_uri": "https://localhost:8080/",
          "height": 337
        },
        "id": "h_sSHLYRBGBn",
        "outputId": "d9839b0c-fdce-4095-cb85-6d512f882f5a"
      },
      "execution_count": null,
      "outputs": [
        {
          "output_type": "execute_result",
          "data": {
            "text/plain": [
              "           category                                           headline  \\\n",
              "2932   QUEER VOICES  [‘, grace, ’, creator, donate, gay, bunny, boo...   \n",
              "4487   QUEER VOICES  [‘, voice, ’, blind, audition, make, history, ...   \n",
              "8255   QUEER VOICES  [‘, penumbra, ’, queer, audio, drama, ’, know,...   \n",
              "744          COMEDY       [‘, opposition, ’, give, trump, hot, lawyer]   \n",
              "2893  ENTERTAINMENT  [‘, stranger, thing, ’, fan, able, visit, upsi...   \n",
              "\n",
              "                                            authors  \\\n",
              "2932                                  Elyse Wanshel   \n",
              "4487            Lyndsey Parker, Yahoo Entertainment   \n",
              "8255  Sarah Emily Baum, ContributorFreelance Writer   \n",
              "744                                        Ed Mazza   \n",
              "2893                                  Elyse Wanshel   \n",
              "\n",
              "                                                   link  \\\n",
              "2932  https://www.huffingtonpost.com/entry/will-grac...   \n",
              "4487  https://www.huffingtonpost.com/entry/the-voice...   \n",
              "8255  https://www.huffingtonpost.com/entry/the-penum...   \n",
              "744   https://www.huffingtonpost.com/entry/trump-hot...   \n",
              "2893  https://www.huffingtonpost.com/entry/stranger-...   \n",
              "\n",
              "                                      short_description       date  \n",
              "2932  It's about to be a lot easier for kids in Mike... 2018-04-02  \n",
              "4487  Austin Giorgio, 21: “How Sweet It Is (To Be Lo... 2018-03-06  \n",
              "8255  Young, fun, fantastical and, most notably, inc... 2018-01-05  \n",
              "744   He's here to make a \"strong case\" for the pres... 2018-05-11  \n",
              "2893  Hawkins is headed to Hollywood, Orlando and Si... 2018-04-03  "
            ],
            "text/html": [
              "\n",
              "  <div id=\"df-bd5c8e41-8c4c-4591-b40a-05525447d87b\">\n",
              "    <div class=\"colab-df-container\">\n",
              "      <div>\n",
              "<style scoped>\n",
              "    .dataframe tbody tr th:only-of-type {\n",
              "        vertical-align: middle;\n",
              "    }\n",
              "\n",
              "    .dataframe tbody tr th {\n",
              "        vertical-align: top;\n",
              "    }\n",
              "\n",
              "    .dataframe thead th {\n",
              "        text-align: right;\n",
              "    }\n",
              "</style>\n",
              "<table border=\"1\" class=\"dataframe\">\n",
              "  <thead>\n",
              "    <tr style=\"text-align: right;\">\n",
              "      <th></th>\n",
              "      <th>category</th>\n",
              "      <th>headline</th>\n",
              "      <th>authors</th>\n",
              "      <th>link</th>\n",
              "      <th>short_description</th>\n",
              "      <th>date</th>\n",
              "    </tr>\n",
              "  </thead>\n",
              "  <tbody>\n",
              "    <tr>\n",
              "      <th>2932</th>\n",
              "      <td>QUEER VOICES</td>\n",
              "      <td>[‘, grace, ’, creator, donate, gay, bunny, boo...</td>\n",
              "      <td>Elyse Wanshel</td>\n",
              "      <td>https://www.huffingtonpost.com/entry/will-grac...</td>\n",
              "      <td>It's about to be a lot easier for kids in Mike...</td>\n",
              "      <td>2018-04-02</td>\n",
              "    </tr>\n",
              "    <tr>\n",
              "      <th>4487</th>\n",
              "      <td>QUEER VOICES</td>\n",
              "      <td>[‘, voice, ’, blind, audition, make, history, ...</td>\n",
              "      <td>Lyndsey Parker, Yahoo Entertainment</td>\n",
              "      <td>https://www.huffingtonpost.com/entry/the-voice...</td>\n",
              "      <td>Austin Giorgio, 21: “How Sweet It Is (To Be Lo...</td>\n",
              "      <td>2018-03-06</td>\n",
              "    </tr>\n",
              "    <tr>\n",
              "      <th>8255</th>\n",
              "      <td>QUEER VOICES</td>\n",
              "      <td>[‘, penumbra, ’, queer, audio, drama, ’, know,...</td>\n",
              "      <td>Sarah Emily Baum, ContributorFreelance Writer</td>\n",
              "      <td>https://www.huffingtonpost.com/entry/the-penum...</td>\n",
              "      <td>Young, fun, fantastical and, most notably, inc...</td>\n",
              "      <td>2018-01-05</td>\n",
              "    </tr>\n",
              "    <tr>\n",
              "      <th>744</th>\n",
              "      <td>COMEDY</td>\n",
              "      <td>[‘, opposition, ’, give, trump, hot, lawyer]</td>\n",
              "      <td>Ed Mazza</td>\n",
              "      <td>https://www.huffingtonpost.com/entry/trump-hot...</td>\n",
              "      <td>He's here to make a \"strong case\" for the pres...</td>\n",
              "      <td>2018-05-11</td>\n",
              "    </tr>\n",
              "    <tr>\n",
              "      <th>2893</th>\n",
              "      <td>ENTERTAINMENT</td>\n",
              "      <td>[‘, stranger, thing, ’, fan, able, visit, upsi...</td>\n",
              "      <td>Elyse Wanshel</td>\n",
              "      <td>https://www.huffingtonpost.com/entry/stranger-...</td>\n",
              "      <td>Hawkins is headed to Hollywood, Orlando and Si...</td>\n",
              "      <td>2018-04-03</td>\n",
              "    </tr>\n",
              "  </tbody>\n",
              "</table>\n",
              "</div>\n",
              "      <button class=\"colab-df-convert\" onclick=\"convertToInteractive('df-bd5c8e41-8c4c-4591-b40a-05525447d87b')\"\n",
              "              title=\"Convert this dataframe to an interactive table.\"\n",
              "              style=\"display:none;\">\n",
              "        \n",
              "  <svg xmlns=\"http://www.w3.org/2000/svg\" height=\"24px\"viewBox=\"0 0 24 24\"\n",
              "       width=\"24px\">\n",
              "    <path d=\"M0 0h24v24H0V0z\" fill=\"none\"/>\n",
              "    <path d=\"M18.56 5.44l.94 2.06.94-2.06 2.06-.94-2.06-.94-.94-2.06-.94 2.06-2.06.94zm-11 1L8.5 8.5l.94-2.06 2.06-.94-2.06-.94L8.5 2.5l-.94 2.06-2.06.94zm10 10l.94 2.06.94-2.06 2.06-.94-2.06-.94-.94-2.06-.94 2.06-2.06.94z\"/><path d=\"M17.41 7.96l-1.37-1.37c-.4-.4-.92-.59-1.43-.59-.52 0-1.04.2-1.43.59L10.3 9.45l-7.72 7.72c-.78.78-.78 2.05 0 2.83L4 21.41c.39.39.9.59 1.41.59.51 0 1.02-.2 1.41-.59l7.78-7.78 2.81-2.81c.8-.78.8-2.07 0-2.86zM5.41 20L4 18.59l7.72-7.72 1.47 1.35L5.41 20z\"/>\n",
              "  </svg>\n",
              "      </button>\n",
              "      \n",
              "  <style>\n",
              "    .colab-df-container {\n",
              "      display:flex;\n",
              "      flex-wrap:wrap;\n",
              "      gap: 12px;\n",
              "    }\n",
              "\n",
              "    .colab-df-convert {\n",
              "      background-color: #E8F0FE;\n",
              "      border: none;\n",
              "      border-radius: 50%;\n",
              "      cursor: pointer;\n",
              "      display: none;\n",
              "      fill: #1967D2;\n",
              "      height: 32px;\n",
              "      padding: 0 0 0 0;\n",
              "      width: 32px;\n",
              "    }\n",
              "\n",
              "    .colab-df-convert:hover {\n",
              "      background-color: #E2EBFA;\n",
              "      box-shadow: 0px 1px 2px rgba(60, 64, 67, 0.3), 0px 1px 3px 1px rgba(60, 64, 67, 0.15);\n",
              "      fill: #174EA6;\n",
              "    }\n",
              "\n",
              "    [theme=dark] .colab-df-convert {\n",
              "      background-color: #3B4455;\n",
              "      fill: #D2E3FC;\n",
              "    }\n",
              "\n",
              "    [theme=dark] .colab-df-convert:hover {\n",
              "      background-color: #434B5C;\n",
              "      box-shadow: 0px 1px 3px 1px rgba(0, 0, 0, 0.15);\n",
              "      filter: drop-shadow(0px 1px 2px rgba(0, 0, 0, 0.3));\n",
              "      fill: #FFFFFF;\n",
              "    }\n",
              "  </style>\n",
              "\n",
              "      <script>\n",
              "        const buttonEl =\n",
              "          document.querySelector('#df-bd5c8e41-8c4c-4591-b40a-05525447d87b button.colab-df-convert');\n",
              "        buttonEl.style.display =\n",
              "          google.colab.kernel.accessAllowed ? 'block' : 'none';\n",
              "\n",
              "        async function convertToInteractive(key) {\n",
              "          const element = document.querySelector('#df-bd5c8e41-8c4c-4591-b40a-05525447d87b');\n",
              "          const dataTable =\n",
              "            await google.colab.kernel.invokeFunction('convertToInteractive',\n",
              "                                                     [key], {});\n",
              "          if (!dataTable) return;\n",
              "\n",
              "          const docLinkHtml = 'Like what you see? Visit the ' +\n",
              "            '<a target=\"_blank\" href=https://colab.research.google.com/notebooks/data_table.ipynb>data table notebook</a>'\n",
              "            + ' to learn more about interactive tables.';\n",
              "          element.innerHTML = '';\n",
              "          dataTable['output_type'] = 'display_data';\n",
              "          await google.colab.output.renderOutput(dataTable, element);\n",
              "          const docLink = document.createElement('div');\n",
              "          docLink.innerHTML = docLinkHtml;\n",
              "          element.appendChild(docLink);\n",
              "        }\n",
              "      </script>\n",
              "    </div>\n",
              "  </div>\n",
              "  "
            ]
          },
          "metadata": {},
          "execution_count": 28
        }
      ]
    },
    {
      "cell_type": "markdown",
      "source": [
        "# **6.Modelling**"
      ],
      "metadata": {
        "id": "zhUQEs1L_f5C"
      }
    },
    {
      "cell_type": "markdown",
      "source": [
        "### **6.a) Bag-of-Words with headline and Eucleadian distance**"
      ],
      "metadata": {
        "id": "ip2FgOdl_ljc"
      }
    },
    {
      "cell_type": "code",
      "source": [
        "pd.set_option('display.max_colwidth', -1)  # To display a very long headline completely"
      ],
      "metadata": {
        "id": "SoNeZemtRqu_"
      },
      "execution_count": null,
      "outputs": []
    },
    {
      "cell_type": "code",
      "source": [
        "headline_vectorizer = CountVectorizer()\n",
        "headline_features   = headline_vectorizer.fit_transform(news_articles_temp['headline'])"
      ],
      "metadata": {
        "id": "TPWnyx6xRlbz"
      },
      "execution_count": null,
      "outputs": []
    },
    {
      "cell_type": "code",
      "source": [
        "def bag_of_words(row_index, num_similar_items):\n",
        "    couple_dist = pairwise_distances(headline_features,headline_features[row_index])\n",
        "    indices = np.argsort(couple_dist.ravel())[0:num_similar_items]\n",
        "    df = pd.DataFrame({'publish_date': na['date'][indices].values,\n",
        "               'headline':na['headline'][indices].values,\n",
        "                'Euclidean similarity with the queried article': couple_dist[indices].ravel()})\n",
        "    print(\"=\"*30,\"Queried article details\",\"=\"*30)\n",
        "    print('headline : ',na['headline'][indices[0]])\n",
        "    print(\"\\n\",\"=\"*25,\"Recommended articles : \",\"=\"*23)\n",
        "    #return df.iloc[1:,1]\n",
        "    return df.iloc[1:,]\n",
        "\n",
        "bag_of_words(133, 11) # Change the row index for any other queried article"
      ],
      "metadata": {
        "colab": {
          "base_uri": "https://localhost:8080/",
          "height": 481
        },
        "id": "StH9BQ0MR3OT",
        "outputId": "dcd61caa-d450-4871-e9ce-b0cad5e8a550"
      },
      "execution_count": null,
      "outputs": [
        {
          "output_type": "stream",
          "name": "stdout",
          "text": [
            "============================== Queried article details ==============================\n",
            "headline :  Can You Believe? Queer Eye Season 2 Drops Next Month\n",
            "\n",
            " ========================= Recommended articles :  =======================\n"
          ]
        },
        {
          "output_type": "execute_result",
          "data": {
            "text/plain": [
              "   publish_date  \\\n",
              "1  2018-04-23     \n",
              "2  2018-01-30     \n",
              "3  2018-01-12     \n",
              "4  2018-05-09     \n",
              "5  2018-05-08     \n",
              "6  2018-05-09     \n",
              "7  2018-01-22     \n",
              "8  2018-05-17     \n",
              "9  2018-01-31     \n",
              "10 2018-05-04     \n",
              "\n",
              "                                                                                   headline  \\\n",
              "1   For The First Time, Here Are Jerry Garcia's Earliest Known Recorded Performances          \n",
              "2   GOP Congressman Calls For Undocumented SOTU Guests To Be Arrested On The Spot             \n",
              "3   Alton Sterling's Family Seeks Release Of Controversial Video, Evidence                    \n",
              "4   NY Legislature Has Plan In Place To Consider Replacements For Eric Schneiderman           \n",
              "5   Eric Schneiderman Has Always Been A Con Man                                               \n",
              "6   Seth Meyers Decodes Teen Slang, Reveals What ‘Giuliani’ Really Means                      \n",
              "7   Lindsey Graham Slams Trump Aide, Says White House Staff Making Negotiations ‘Difficult’   \n",
              "8   Boulder City Council Unanimously Votes To Ban Assault Weapons, High-Capacity Magazines    \n",
              "9   Trump Executive Order Helps Cement Guantanamo's Status As A Forever Prison                \n",
              "10  Alexa Can Remember Birthdays And Other Things For You Now                                 \n",
              "\n",
              "    Euclidean similarity with the queried article  \n",
              "1   3.605551                                       \n",
              "2   3.605551                                       \n",
              "3   3.605551                                       \n",
              "4   3.741657                                       \n",
              "5   3.741657                                       \n",
              "6   3.741657                                       \n",
              "7   3.741657                                       \n",
              "8   3.741657                                       \n",
              "9   3.741657                                       \n",
              "10  3.741657                                       "
            ],
            "text/html": [
              "\n",
              "  <div id=\"df-b521ee78-792d-46af-88bb-b027a3809bd8\">\n",
              "    <div class=\"colab-df-container\">\n",
              "      <div>\n",
              "<style scoped>\n",
              "    .dataframe tbody tr th:only-of-type {\n",
              "        vertical-align: middle;\n",
              "    }\n",
              "\n",
              "    .dataframe tbody tr th {\n",
              "        vertical-align: top;\n",
              "    }\n",
              "\n",
              "    .dataframe thead th {\n",
              "        text-align: right;\n",
              "    }\n",
              "</style>\n",
              "<table border=\"1\" class=\"dataframe\">\n",
              "  <thead>\n",
              "    <tr style=\"text-align: right;\">\n",
              "      <th></th>\n",
              "      <th>publish_date</th>\n",
              "      <th>headline</th>\n",
              "      <th>Euclidean similarity with the queried article</th>\n",
              "    </tr>\n",
              "  </thead>\n",
              "  <tbody>\n",
              "    <tr>\n",
              "      <th>1</th>\n",
              "      <td>2018-04-23</td>\n",
              "      <td>For The First Time, Here Are Jerry Garcia's Earliest Known Recorded Performances</td>\n",
              "      <td>3.605551</td>\n",
              "    </tr>\n",
              "    <tr>\n",
              "      <th>2</th>\n",
              "      <td>2018-01-30</td>\n",
              "      <td>GOP Congressman Calls For Undocumented SOTU Guests To Be Arrested On The Spot</td>\n",
              "      <td>3.605551</td>\n",
              "    </tr>\n",
              "    <tr>\n",
              "      <th>3</th>\n",
              "      <td>2018-01-12</td>\n",
              "      <td>Alton Sterling's Family Seeks Release Of Controversial Video, Evidence</td>\n",
              "      <td>3.605551</td>\n",
              "    </tr>\n",
              "    <tr>\n",
              "      <th>4</th>\n",
              "      <td>2018-05-09</td>\n",
              "      <td>NY Legislature Has Plan In Place To Consider Replacements For Eric Schneiderman</td>\n",
              "      <td>3.741657</td>\n",
              "    </tr>\n",
              "    <tr>\n",
              "      <th>5</th>\n",
              "      <td>2018-05-08</td>\n",
              "      <td>Eric Schneiderman Has Always Been A Con Man</td>\n",
              "      <td>3.741657</td>\n",
              "    </tr>\n",
              "    <tr>\n",
              "      <th>6</th>\n",
              "      <td>2018-05-09</td>\n",
              "      <td>Seth Meyers Decodes Teen Slang, Reveals What ‘Giuliani’ Really Means</td>\n",
              "      <td>3.741657</td>\n",
              "    </tr>\n",
              "    <tr>\n",
              "      <th>7</th>\n",
              "      <td>2018-01-22</td>\n",
              "      <td>Lindsey Graham Slams Trump Aide, Says White House Staff Making Negotiations ‘Difficult’</td>\n",
              "      <td>3.741657</td>\n",
              "    </tr>\n",
              "    <tr>\n",
              "      <th>8</th>\n",
              "      <td>2018-05-17</td>\n",
              "      <td>Boulder City Council Unanimously Votes To Ban Assault Weapons, High-Capacity Magazines</td>\n",
              "      <td>3.741657</td>\n",
              "    </tr>\n",
              "    <tr>\n",
              "      <th>9</th>\n",
              "      <td>2018-01-31</td>\n",
              "      <td>Trump Executive Order Helps Cement Guantanamo's Status As A Forever Prison</td>\n",
              "      <td>3.741657</td>\n",
              "    </tr>\n",
              "    <tr>\n",
              "      <th>10</th>\n",
              "      <td>2018-05-04</td>\n",
              "      <td>Alexa Can Remember Birthdays And Other Things For You Now</td>\n",
              "      <td>3.741657</td>\n",
              "    </tr>\n",
              "  </tbody>\n",
              "</table>\n",
              "</div>\n",
              "      <button class=\"colab-df-convert\" onclick=\"convertToInteractive('df-b521ee78-792d-46af-88bb-b027a3809bd8')\"\n",
              "              title=\"Convert this dataframe to an interactive table.\"\n",
              "              style=\"display:none;\">\n",
              "        \n",
              "  <svg xmlns=\"http://www.w3.org/2000/svg\" height=\"24px\"viewBox=\"0 0 24 24\"\n",
              "       width=\"24px\">\n",
              "    <path d=\"M0 0h24v24H0V0z\" fill=\"none\"/>\n",
              "    <path d=\"M18.56 5.44l.94 2.06.94-2.06 2.06-.94-2.06-.94-.94-2.06-.94 2.06-2.06.94zm-11 1L8.5 8.5l.94-2.06 2.06-.94-2.06-.94L8.5 2.5l-.94 2.06-2.06.94zm10 10l.94 2.06.94-2.06 2.06-.94-2.06-.94-.94-2.06-.94 2.06-2.06.94z\"/><path d=\"M17.41 7.96l-1.37-1.37c-.4-.4-.92-.59-1.43-.59-.52 0-1.04.2-1.43.59L10.3 9.45l-7.72 7.72c-.78.78-.78 2.05 0 2.83L4 21.41c.39.39.9.59 1.41.59.51 0 1.02-.2 1.41-.59l7.78-7.78 2.81-2.81c.8-.78.8-2.07 0-2.86zM5.41 20L4 18.59l7.72-7.72 1.47 1.35L5.41 20z\"/>\n",
              "  </svg>\n",
              "      </button>\n",
              "      \n",
              "  <style>\n",
              "    .colab-df-container {\n",
              "      display:flex;\n",
              "      flex-wrap:wrap;\n",
              "      gap: 12px;\n",
              "    }\n",
              "\n",
              "    .colab-df-convert {\n",
              "      background-color: #E8F0FE;\n",
              "      border: none;\n",
              "      border-radius: 50%;\n",
              "      cursor: pointer;\n",
              "      display: none;\n",
              "      fill: #1967D2;\n",
              "      height: 32px;\n",
              "      padding: 0 0 0 0;\n",
              "      width: 32px;\n",
              "    }\n",
              "\n",
              "    .colab-df-convert:hover {\n",
              "      background-color: #E2EBFA;\n",
              "      box-shadow: 0px 1px 2px rgba(60, 64, 67, 0.3), 0px 1px 3px 1px rgba(60, 64, 67, 0.15);\n",
              "      fill: #174EA6;\n",
              "    }\n",
              "\n",
              "    [theme=dark] .colab-df-convert {\n",
              "      background-color: #3B4455;\n",
              "      fill: #D2E3FC;\n",
              "    }\n",
              "\n",
              "    [theme=dark] .colab-df-convert:hover {\n",
              "      background-color: #434B5C;\n",
              "      box-shadow: 0px 1px 3px 1px rgba(0, 0, 0, 0.15);\n",
              "      filter: drop-shadow(0px 1px 2px rgba(0, 0, 0, 0.3));\n",
              "      fill: #FFFFFF;\n",
              "    }\n",
              "  </style>\n",
              "\n",
              "      <script>\n",
              "        const buttonEl =\n",
              "          document.querySelector('#df-b521ee78-792d-46af-88bb-b027a3809bd8 button.colab-df-convert');\n",
              "        buttonEl.style.display =\n",
              "          google.colab.kernel.accessAllowed ? 'block' : 'none';\n",
              "\n",
              "        async function convertToInteractive(key) {\n",
              "          const element = document.querySelector('#df-b521ee78-792d-46af-88bb-b027a3809bd8');\n",
              "          const dataTable =\n",
              "            await google.colab.kernel.invokeFunction('convertToInteractive',\n",
              "                                                     [key], {});\n",
              "          if (!dataTable) return;\n",
              "\n",
              "          const docLinkHtml = 'Like what you see? Visit the ' +\n",
              "            '<a target=\"_blank\" href=https://colab.research.google.com/notebooks/data_table.ipynb>data table notebook</a>'\n",
              "            + ' to learn more about interactive tables.';\n",
              "          element.innerHTML = '';\n",
              "          dataTable['output_type'] = 'display_data';\n",
              "          await google.colab.output.renderOutput(dataTable, element);\n",
              "          const docLink = document.createElement('div');\n",
              "          docLink.innerHTML = docLinkHtml;\n",
              "          element.appendChild(docLink);\n",
              "        }\n",
              "      </script>\n",
              "    </div>\n",
              "  </div>\n",
              "  "
            ]
          },
          "metadata": {},
          "execution_count": 79
        }
      ]
    },
    {
      "cell_type": "markdown",
      "source": [
        "### **6.b) TF-IDF**"
      ],
      "metadata": {
        "id": "ILqSJWgkUUNi"
      }
    },
    {
      "cell_type": "code",
      "source": [
        "tfidf_headline_vectorizer = TfidfVectorizer(min_df = 0)\n",
        "tfidf_headline_features = tfidf_headline_vectorizer.fit_transform(news_articles_temp['headline'])"
      ],
      "metadata": {
        "id": "p6Lyt7xHUVvz"
      },
      "execution_count": null,
      "outputs": []
    },
    {
      "cell_type": "code",
      "source": [
        "def tfidf_based_model(row_index, num_similar_items):\n",
        "    couple_dist = pairwise_distances(tfidf_headline_features,tfidf_headline_features[row_index])\n",
        "    indices = np.argsort(couple_dist.ravel())[0:num_similar_items]\n",
        "    df = pd.DataFrame({'publish_date': na['date'][indices].values,\n",
        "               'headline':na['headline'][indices].values,\n",
        "                'Euclidean similarity with the queried article': couple_dist[indices].ravel()})\n",
        "    print(\"=\"*30,\"Queried article details\",\"=\"*30)\n",
        "    print('headline : ',na['headline'][indices[0]])\n",
        "    print(\"\\n\",\"=\"*25,\"Recommended articles : \",\"=\"*23)\n",
        "    \n",
        "    #return df.iloc[1:,1]\n",
        "    return df.iloc[1:,]\n",
        "tfidf_based_model(133, 11)"
      ],
      "metadata": {
        "colab": {
          "base_uri": "https://localhost:8080/",
          "height": 515
        },
        "id": "wpQFuuK0UWhJ",
        "outputId": "8bb4316e-da94-469c-a7cd-5799659d6368"
      },
      "execution_count": null,
      "outputs": [
        {
          "output_type": "stream",
          "name": "stdout",
          "text": [
            "============================== Queried article details ==============================\n",
            "headline :  Can You Believe? Queer Eye Season 2 Drops Next Month\n",
            "\n",
            " ========================= Recommended articles :  =======================\n"
          ]
        },
        {
          "output_type": "execute_result",
          "data": {
            "text/plain": [
              "   publish_date  \\\n",
              "1  2018-01-31     \n",
              "2  2018-01-23     \n",
              "3  2018-02-13     \n",
              "4  2018-04-23     \n",
              "5  2018-02-09     \n",
              "6  2018-02-09     \n",
              "7  2018-02-09     \n",
              "8  2018-01-19     \n",
              "9  2018-04-26     \n",
              "10 2018-04-16     \n",
              "\n",
              "                                                                                              headline  \\\n",
              "1   Trump Executive Order Helps Cement Guantanamo's Status As A Forever Prison                           \n",
              "2   Matt Bomer, Zachary Quinto And More Prep 'Boys In The Band' For Broadway                             \n",
              "3   New Jersey Deputy Mayor Compares Undocumented Immigrants To  'Rabid Raccoons'                        \n",
              "4   For The First Time, Here Are Jerry Garcia's Earliest Known Recorded Performances                     \n",
              "5   Government Runs Out Of Money Again As Congress Fails To Reach A Deal                                 \n",
              "6   2 Koreas Make History Marching Under Unified Flag In Olympics Opener                                 \n",
              "7   Team USA's Openly Gay Athletes Aren't Backing Down From Feud With Vice President                     \n",
              "8   Chelsea Manning Officially On The Ballot For U.S. Senate Race In Maryland                            \n",
              "9   James Comey Is 'Embarrassed And Ashamed' Of The Republican Party                                     \n",
              "10  EPA Spending On Scott Pruitt's Soundproof Phone Booth Broke Federal Law, Government Watchdog Finds   \n",
              "\n",
              "    Euclidean similarity with the queried article  \n",
              "1   1.242174                                       \n",
              "2   1.256595                                       \n",
              "3   1.257048                                       \n",
              "4   1.288824                                       \n",
              "5   1.292443                                       \n",
              "6   1.293377                                       \n",
              "7   1.295394                                       \n",
              "8   1.296011                                       \n",
              "9   1.299462                                       \n",
              "10  1.299698                                       "
            ],
            "text/html": [
              "\n",
              "  <div id=\"df-c7a18333-5ac0-4a49-a905-313d5acaf456\">\n",
              "    <div class=\"colab-df-container\">\n",
              "      <div>\n",
              "<style scoped>\n",
              "    .dataframe tbody tr th:only-of-type {\n",
              "        vertical-align: middle;\n",
              "    }\n",
              "\n",
              "    .dataframe tbody tr th {\n",
              "        vertical-align: top;\n",
              "    }\n",
              "\n",
              "    .dataframe thead th {\n",
              "        text-align: right;\n",
              "    }\n",
              "</style>\n",
              "<table border=\"1\" class=\"dataframe\">\n",
              "  <thead>\n",
              "    <tr style=\"text-align: right;\">\n",
              "      <th></th>\n",
              "      <th>publish_date</th>\n",
              "      <th>headline</th>\n",
              "      <th>Euclidean similarity with the queried article</th>\n",
              "    </tr>\n",
              "  </thead>\n",
              "  <tbody>\n",
              "    <tr>\n",
              "      <th>1</th>\n",
              "      <td>2018-01-31</td>\n",
              "      <td>Trump Executive Order Helps Cement Guantanamo's Status As A Forever Prison</td>\n",
              "      <td>1.242174</td>\n",
              "    </tr>\n",
              "    <tr>\n",
              "      <th>2</th>\n",
              "      <td>2018-01-23</td>\n",
              "      <td>Matt Bomer, Zachary Quinto And More Prep 'Boys In The Band' For Broadway</td>\n",
              "      <td>1.256595</td>\n",
              "    </tr>\n",
              "    <tr>\n",
              "      <th>3</th>\n",
              "      <td>2018-02-13</td>\n",
              "      <td>New Jersey Deputy Mayor Compares Undocumented Immigrants To  'Rabid Raccoons'</td>\n",
              "      <td>1.257048</td>\n",
              "    </tr>\n",
              "    <tr>\n",
              "      <th>4</th>\n",
              "      <td>2018-04-23</td>\n",
              "      <td>For The First Time, Here Are Jerry Garcia's Earliest Known Recorded Performances</td>\n",
              "      <td>1.288824</td>\n",
              "    </tr>\n",
              "    <tr>\n",
              "      <th>5</th>\n",
              "      <td>2018-02-09</td>\n",
              "      <td>Government Runs Out Of Money Again As Congress Fails To Reach A Deal</td>\n",
              "      <td>1.292443</td>\n",
              "    </tr>\n",
              "    <tr>\n",
              "      <th>6</th>\n",
              "      <td>2018-02-09</td>\n",
              "      <td>2 Koreas Make History Marching Under Unified Flag In Olympics Opener</td>\n",
              "      <td>1.293377</td>\n",
              "    </tr>\n",
              "    <tr>\n",
              "      <th>7</th>\n",
              "      <td>2018-02-09</td>\n",
              "      <td>Team USA's Openly Gay Athletes Aren't Backing Down From Feud With Vice President</td>\n",
              "      <td>1.295394</td>\n",
              "    </tr>\n",
              "    <tr>\n",
              "      <th>8</th>\n",
              "      <td>2018-01-19</td>\n",
              "      <td>Chelsea Manning Officially On The Ballot For U.S. Senate Race In Maryland</td>\n",
              "      <td>1.296011</td>\n",
              "    </tr>\n",
              "    <tr>\n",
              "      <th>9</th>\n",
              "      <td>2018-04-26</td>\n",
              "      <td>James Comey Is 'Embarrassed And Ashamed' Of The Republican Party</td>\n",
              "      <td>1.299462</td>\n",
              "    </tr>\n",
              "    <tr>\n",
              "      <th>10</th>\n",
              "      <td>2018-04-16</td>\n",
              "      <td>EPA Spending On Scott Pruitt's Soundproof Phone Booth Broke Federal Law, Government Watchdog Finds</td>\n",
              "      <td>1.299698</td>\n",
              "    </tr>\n",
              "  </tbody>\n",
              "</table>\n",
              "</div>\n",
              "      <button class=\"colab-df-convert\" onclick=\"convertToInteractive('df-c7a18333-5ac0-4a49-a905-313d5acaf456')\"\n",
              "              title=\"Convert this dataframe to an interactive table.\"\n",
              "              style=\"display:none;\">\n",
              "        \n",
              "  <svg xmlns=\"http://www.w3.org/2000/svg\" height=\"24px\"viewBox=\"0 0 24 24\"\n",
              "       width=\"24px\">\n",
              "    <path d=\"M0 0h24v24H0V0z\" fill=\"none\"/>\n",
              "    <path d=\"M18.56 5.44l.94 2.06.94-2.06 2.06-.94-2.06-.94-.94-2.06-.94 2.06-2.06.94zm-11 1L8.5 8.5l.94-2.06 2.06-.94-2.06-.94L8.5 2.5l-.94 2.06-2.06.94zm10 10l.94 2.06.94-2.06 2.06-.94-2.06-.94-.94-2.06-.94 2.06-2.06.94z\"/><path d=\"M17.41 7.96l-1.37-1.37c-.4-.4-.92-.59-1.43-.59-.52 0-1.04.2-1.43.59L10.3 9.45l-7.72 7.72c-.78.78-.78 2.05 0 2.83L4 21.41c.39.39.9.59 1.41.59.51 0 1.02-.2 1.41-.59l7.78-7.78 2.81-2.81c.8-.78.8-2.07 0-2.86zM5.41 20L4 18.59l7.72-7.72 1.47 1.35L5.41 20z\"/>\n",
              "  </svg>\n",
              "      </button>\n",
              "      \n",
              "  <style>\n",
              "    .colab-df-container {\n",
              "      display:flex;\n",
              "      flex-wrap:wrap;\n",
              "      gap: 12px;\n",
              "    }\n",
              "\n",
              "    .colab-df-convert {\n",
              "      background-color: #E8F0FE;\n",
              "      border: none;\n",
              "      border-radius: 50%;\n",
              "      cursor: pointer;\n",
              "      display: none;\n",
              "      fill: #1967D2;\n",
              "      height: 32px;\n",
              "      padding: 0 0 0 0;\n",
              "      width: 32px;\n",
              "    }\n",
              "\n",
              "    .colab-df-convert:hover {\n",
              "      background-color: #E2EBFA;\n",
              "      box-shadow: 0px 1px 2px rgba(60, 64, 67, 0.3), 0px 1px 3px 1px rgba(60, 64, 67, 0.15);\n",
              "      fill: #174EA6;\n",
              "    }\n",
              "\n",
              "    [theme=dark] .colab-df-convert {\n",
              "      background-color: #3B4455;\n",
              "      fill: #D2E3FC;\n",
              "    }\n",
              "\n",
              "    [theme=dark] .colab-df-convert:hover {\n",
              "      background-color: #434B5C;\n",
              "      box-shadow: 0px 1px 3px 1px rgba(0, 0, 0, 0.15);\n",
              "      filter: drop-shadow(0px 1px 2px rgba(0, 0, 0, 0.3));\n",
              "      fill: #FFFFFF;\n",
              "    }\n",
              "  </style>\n",
              "\n",
              "      <script>\n",
              "        const buttonEl =\n",
              "          document.querySelector('#df-c7a18333-5ac0-4a49-a905-313d5acaf456 button.colab-df-convert');\n",
              "        buttonEl.style.display =\n",
              "          google.colab.kernel.accessAllowed ? 'block' : 'none';\n",
              "\n",
              "        async function convertToInteractive(key) {\n",
              "          const element = document.querySelector('#df-c7a18333-5ac0-4a49-a905-313d5acaf456');\n",
              "          const dataTable =\n",
              "            await google.colab.kernel.invokeFunction('convertToInteractive',\n",
              "                                                     [key], {});\n",
              "          if (!dataTable) return;\n",
              "\n",
              "          const docLinkHtml = 'Like what you see? Visit the ' +\n",
              "            '<a target=\"_blank\" href=https://colab.research.google.com/notebooks/data_table.ipynb>data table notebook</a>'\n",
              "            + ' to learn more about interactive tables.';\n",
              "          element.innerHTML = '';\n",
              "          dataTable['output_type'] = 'display_data';\n",
              "          await google.colab.output.renderOutput(dataTable, element);\n",
              "          const docLink = document.createElement('div');\n",
              "          docLink.innerHTML = docLinkHtml;\n",
              "          element.appendChild(docLink);\n",
              "        }\n",
              "      </script>\n",
              "    </div>\n",
              "  </div>\n",
              "  "
            ]
          },
          "metadata": {},
          "execution_count": 81
        }
      ]
    },
    {
      "cell_type": "markdown",
      "source": [
        "### **6.c) Bag-of-Words**"
      ],
      "metadata": {
        "id": "qZ-P-tw9nDo5"
      }
    },
    {
      "cell_type": "code",
      "source": [
        "from sklearn.feature_extraction.text import CountVectorizer\n",
        "cv=CountVectorizer(max_features=5000,stop_words='english')\n",
        "vectors=cv.fit_transform(na['short_description']).toarray()\n",
        "from sklearn.metrics.pairwise import cosine_similarity\n",
        "similarity=cosine_similarity(vectors)"
      ],
      "metadata": {
        "id": "IjdPxRMDnmft"
      },
      "execution_count": null,
      "outputs": []
    },
    {
      "cell_type": "code",
      "source": [
        "def recommendations(news):\n",
        "    news_index=na[na['headline']==news].index[0]\n",
        "    dist_per_news=similarity[4]\n",
        "    news_list=sorted(list(enumerate(dist_per_news)),reverse=True,key=lambda x:x[1])[1:11]\n",
        "    for i in news_list:\n",
        "        print(na['headline'][i[0]])    \n",
        "        print(dist_per_news)"
      ],
      "metadata": {
        "id": "C7JcgzGDoKG3"
      },
      "execution_count": null,
      "outputs": []
    },
    {
      "cell_type": "code",
      "source": [
        "recommendations('Can You Believe? Queer Eye Season 2 Drops Next Month')"
      ],
      "metadata": {
        "colab": {
          "base_uri": "https://localhost:8080/"
        },
        "id": "zUYPX1HHoXfL",
        "outputId": "d9563de1-539a-4043-d0f2-5e8fad1b93e8"
      },
      "execution_count": null,
      "outputs": [
        {
          "output_type": "stream",
          "name": "stdout",
          "text": [
            "1 Person Dead After Shooting At Nashville, Tennessee, Mall\n",
            "[0. 0. 0. ... 0. 0. 0.]\n",
            "James Corden Reveals The Worst Part Of The Royal Wedding Ceremony\n",
            "[0. 0. 0. ... 0. 0. 0.]\n",
            "Shawn Mendes Says He Almost Starred In 'Love, Simon'\n",
            "[0. 0. 0. ... 0. 0. 0.]\n",
            "Israeli Troops Wound 13 On Gaza Border, Day After Deadly Protest\n",
            "[0. 0. 0. ... 0. 0. 0.]\n",
            "NHL Teams Honor Victims Of Canada's Junior Hockey Bus Crash\n",
            "[0. 0. 0. ... 0. 0. 0.]\n",
            "Drake Keeps Crushing Hard On ESPN Reporter Doris Burke\n",
            "[0. 0. 0. ... 0. 0. 0.]\n",
            "Report: Trump Scrapped South Korea Envoy Pick Over Split On Bombing North\n",
            "[0. 0. 0. ... 0. 0. 0.]\n",
            "Childish Gambino's 'This Is America' Hits No. 1 Spot In First Week\n",
            "[0. 0. 0. ... 0. 0. 0.]\n",
            "Twitter Bans GOP Candidate For Racist Meghan Markle Tweet\n",
            "[0. 0. 0. ... 0. 0. 0.]\n",
            "Kylie Jenner Announces The Name Of Her First Child\n",
            "[0. 0. 0. ... 0. 0. 0.]\n"
          ]
        }
      ]
    },
    {
      "cell_type": "markdown",
      "source": [
        "## Converting to pickle file for web hosting\n",
        "\n"
      ],
      "metadata": {
        "id": "bFTimwtSrjhD"
      }
    },
    {
      "cell_type": "code",
      "source": [
        "import pickle\n",
        "pickle.dump(na,open('/content/drive/MyDrive/Project_team_6/news.pkl','wb'))\n",
        "pickle.dump(similarity,open('/content/drive/MyDrive/Project_team_6/feature.pkl','wb'))"
      ],
      "metadata": {
        "id": "WPtCg-83p3Kt"
      },
      "execution_count": null,
      "outputs": []
    },
    {
      "cell_type": "code",
      "source": [
        "!python3 \"/content/drive/MyDrive/Project_team_6/App.ipynb\""
      ],
      "metadata": {
        "id": "j3Q0W-i0rUdz"
      },
      "execution_count": null,
      "outputs": []
    }
  ]
}